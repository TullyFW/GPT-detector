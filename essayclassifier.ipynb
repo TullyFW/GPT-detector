{
 "cells": [
  {
   "cell_type": "code",
   "execution_count": 1,
   "id": "ea4a522c",
   "metadata": {},
   "outputs": [],
   "source": [
    "from itertools import product\n",
    "import pandas as pd\n",
    "import numpy as np\n",
    "\n",
    "from sklearn.metrics import mean_squared_error\n",
    "from sklearn.metrics import classification_report, confusion_matrix\n",
    "from sklearn.linear_model import LogisticRegression\n",
    "from sklearn.model_selection import train_test_split\n",
    "from sklearn.metrics import roc_curve, roc_auc_score\n",
    "from sklearn.preprocessing import label_binarize\n",
    "from sklearn.neural_network import MLPClassifier\n",
    "from collections import defaultdict\n",
    "\n",
    "from statistics import mean\n",
    "\n",
    "\n",
    "data = pd.read_csv(\"AI_Human.csv\")\n",
    "data['text'] = data['text'].str.strip()\n",
    "data['text'] = data['text'].replace('',np.nan)\n",
    "data = data.dropna()\n",
    "# remove essays in the dataset that include only whitespace (there were some weird cases)\n",
    "essays = list(data['text'])\n",
    "target = list(data['generated'])\n",
    "# split the data into two lists, one of the pure text and another of the target (whether or not it was AI-generated)"
   ]
  },
  {
   "cell_type": "code",
   "execution_count": 7,
   "id": "7c0bf85e",
   "metadata": {},
   "outputs": [
    {
     "data": {
      "text/plain": [
       "487231"
      ]
     },
     "execution_count": 7,
     "metadata": {},
     "output_type": "execute_result"
    }
   ],
   "source": [
    "len(essays)\n",
    "len(target)"
   ]
  },
  {
   "cell_type": "code",
   "execution_count": 2,
   "id": "e046f0b9",
   "metadata": {},
   "outputs": [],
   "source": [
    "features = {}\n",
    "\n",
    "for symbol in [\".\",\"\\n\",\",\",\"?\",\":\",\";\",'\"',\"'\",\"-\",\"they\",\"that\"]:\n",
    "    features[symbol] = [essay.count(symbol) for essay in essays]\n",
    "# count the frequency of particular symbols or words and make them into a feature for the model\n",
    "\n",
    "av_length = []\n",
    "for essay in essays:\n",
    "    words = [len(word) for word in essay.split()]\n",
    "    av_length.append(mean(words))\n",
    "# calculate average number of letters per word in each essay and make that a feature as well\n",
    "\n",
    "features['length'] = av_length"
   ]
  },
  {
   "cell_type": "code",
   "execution_count": 51,
   "id": "29bc9bb4",
   "metadata": {},
   "outputs": [
    {
     "data": {
      "text/plain": [
       "[]"
      ]
     },
     "execution_count": 51,
     "metadata": {},
     "output_type": "execute_result"
    }
   ],
   "source": []
  },
  {
   "cell_type": "code",
   "execution_count": 3,
   "id": "ab322500",
   "metadata": {},
   "outputs": [],
   "source": [
    "df = pd.DataFrame(features)\n",
    "# create a dataframe out of the features\n",
    "df.head()\n",
    "df = pd.concat([data,df],axis=1)\n",
    "df = df.drop(columns = ['text'])\n",
    "# combine it with the original dataframe which has the target column (generated)"
   ]
  },
  {
   "cell_type": "code",
   "execution_count": 4,
   "id": "23850626",
   "metadata": {},
   "outputs": [
    {
     "name": "stdout",
     "output_type": "stream",
     "text": [
      "0.869118597801882\n"
     ]
    },
    {
     "name": "stderr",
     "output_type": "stream",
     "text": [
      "/Users/tullyferriswayne/opt/anaconda3/lib/python3.8/site-packages/sklearn/linear_model/_logistic.py:763: ConvergenceWarning: lbfgs failed to converge (status=1):\n",
      "STOP: TOTAL NO. of ITERATIONS REACHED LIMIT.\n",
      "\n",
      "Increase the number of iterations (max_iter) or scale the data as shown in:\n",
      "    https://scikit-learn.org/stable/modules/preprocessing.html\n",
      "Please also refer to the documentation for alternative solver options:\n",
      "    https://scikit-learn.org/stable/modules/linear_model.html#logistic-regression\n",
      "  n_iter_i = _check_optimize_result(\n"
     ]
    }
   ],
   "source": [
    "X = df.drop(columns = ['generated'])\n",
    "y = df['generated']\n",
    "\n",
    "X = X.dropna()\n",
    "y = y.dropna()\n",
    "\n",
    "X_train, X_test, y_train, y_test = train_test_split(X, y, test_size=.20, random_state=3141)\n",
    "model = LogisticRegression()\n",
    "model.fit(X_train,y_train)\n",
    "# do a train test split and run a logistic regression model on the dataframe to predict the 'generated' column"
   ]
  },
  {
   "cell_type": "code",
   "execution_count": 5,
   "id": "d849bf93",
   "metadata": {},
   "outputs": [
    {
     "name": "stdout",
     "output_type": "stream",
     "text": [
      "              precision    recall  f1-score   support\n",
      "\n",
      "         0.0       0.91      0.88      0.90     63393\n",
      "         1.0       0.79      0.85      0.82     34054\n",
      "\n",
      "    accuracy                           0.87     97447\n",
      "   macro avg       0.85      0.86      0.86     97447\n",
      "weighted avg       0.87      0.87      0.87     97447\n",
      "\n",
      "[[55881  7512]\n",
      " [ 5242 28812]]\n"
     ]
    }
   ],
   "source": [
    "print(classification_report(model.predict(X_test),y_test))\n",
    "print(confusion_matrix(model.predict(X_test),y_test))\n",
    "print(model.score(X_test,y_test))\n",
    "# the model was 87% accurate! mistakes were pretty evenly split, based on the confusion matrix."
   ]
  },
  {
   "cell_type": "code",
   "execution_count": 7,
   "id": "3f5130c1",
   "metadata": {},
   "outputs": [
    {
     "name": "stderr",
     "output_type": "stream",
     "text": [
      "/Users/tullyferriswayne/opt/anaconda3/lib/python3.8/site-packages/sklearn/linear_model/_logistic.py:763: ConvergenceWarning: lbfgs failed to converge (status=1):\n",
      "STOP: TOTAL NO. of ITERATIONS REACHED LIMIT.\n",
      "\n",
      "Increase the number of iterations (max_iter) or scale the data as shown in:\n",
      "    https://scikit-learn.org/stable/modules/preprocessing.html\n",
      "Please also refer to the documentation for alternative solver options:\n",
      "    https://scikit-learn.org/stable/modules/linear_model.html#logistic-regression\n",
      "  n_iter_i = _check_optimize_result(\n"
     ]
    },
    {
     "data": {
      "text/plain": [
       "LogisticRegression()"
      ]
     },
     "execution_count": 7,
     "metadata": {},
     "output_type": "execute_result"
    }
   ],
   "source": [
    "model = LogisticRegression()\n",
    "model.fit(X,y)\n",
    "# retrain the model on the entire dataset instead of just a portion"
   ]
  },
  {
   "cell_type": "code",
   "execution_count": 10,
   "id": "5ba498a0",
   "metadata": {},
   "outputs": [
    {
     "data": {
      "text/html": [
       "<div>\n",
       "<style scoped>\n",
       "    .dataframe tbody tr th:only-of-type {\n",
       "        vertical-align: middle;\n",
       "    }\n",
       "\n",
       "    .dataframe tbody tr th {\n",
       "        vertical-align: top;\n",
       "    }\n",
       "\n",
       "    .dataframe thead th {\n",
       "        text-align: right;\n",
       "    }\n",
       "</style>\n",
       "<table border=\"1\" class=\"dataframe\">\n",
       "  <thead>\n",
       "    <tr style=\"text-align: right;\">\n",
       "      <th></th>\n",
       "      <th>.</th>\n",
       "      <th>\\n</th>\n",
       "      <th>,</th>\n",
       "      <th>?</th>\n",
       "      <th>:</th>\n",
       "      <th>;</th>\n",
       "      <th>\"</th>\n",
       "      <th>'</th>\n",
       "      <th>-</th>\n",
       "      <th>they</th>\n",
       "      <th>that</th>\n",
       "      <th>length</th>\n",
       "      <th>generated</th>\n",
       "    </tr>\n",
       "  </thead>\n",
       "  <tbody>\n",
       "    <tr>\n",
       "      <th>0</th>\n",
       "      <td>17</td>\n",
       "      <td>0</td>\n",
       "      <td>16</td>\n",
       "      <td>0</td>\n",
       "      <td>0</td>\n",
       "      <td>0</td>\n",
       "      <td>0</td>\n",
       "      <td>3</td>\n",
       "      <td>0</td>\n",
       "      <td>0</td>\n",
       "      <td>11</td>\n",
       "      <td>4.619617</td>\n",
       "      <td>0</td>\n",
       "    </tr>\n",
       "    <tr>\n",
       "      <th>1</th>\n",
       "      <td>20</td>\n",
       "      <td>0</td>\n",
       "      <td>4</td>\n",
       "      <td>1</td>\n",
       "      <td>0</td>\n",
       "      <td>1</td>\n",
       "      <td>0</td>\n",
       "      <td>10</td>\n",
       "      <td>0</td>\n",
       "      <td>1</td>\n",
       "      <td>3</td>\n",
       "      <td>4.678218</td>\n",
       "      <td>0</td>\n",
       "    </tr>\n",
       "    <tr>\n",
       "      <th>2</th>\n",
       "      <td>27</td>\n",
       "      <td>0</td>\n",
       "      <td>27</td>\n",
       "      <td>0</td>\n",
       "      <td>0</td>\n",
       "      <td>0</td>\n",
       "      <td>0</td>\n",
       "      <td>3</td>\n",
       "      <td>1</td>\n",
       "      <td>4</td>\n",
       "      <td>10</td>\n",
       "      <td>4.779180</td>\n",
       "      <td>0</td>\n",
       "    </tr>\n",
       "    <tr>\n",
       "      <th>3</th>\n",
       "      <td>16</td>\n",
       "      <td>0</td>\n",
       "      <td>19</td>\n",
       "      <td>0</td>\n",
       "      <td>0</td>\n",
       "      <td>1</td>\n",
       "      <td>0</td>\n",
       "      <td>3</td>\n",
       "      <td>0</td>\n",
       "      <td>1</td>\n",
       "      <td>5</td>\n",
       "      <td>4.762542</td>\n",
       "      <td>0</td>\n",
       "    </tr>\n",
       "    <tr>\n",
       "      <th>4</th>\n",
       "      <td>33</td>\n",
       "      <td>0</td>\n",
       "      <td>23</td>\n",
       "      <td>0</td>\n",
       "      <td>0</td>\n",
       "      <td>0</td>\n",
       "      <td>8</td>\n",
       "      <td>6</td>\n",
       "      <td>0</td>\n",
       "      <td>0</td>\n",
       "      <td>6</td>\n",
       "      <td>4.712264</td>\n",
       "      <td>0</td>\n",
       "    </tr>\n",
       "  </tbody>\n",
       "</table>\n",
       "</div>"
      ],
      "text/plain": [
       "    .  \\n   ,  ?  :  ;  \"   '  -  they  that    length  generated\n",
       "0  17   0  16  0  0  0  0   3  0     0    11  4.619617          0\n",
       "1  20   0   4  1  0  1  0  10  0     1     3  4.678218          0\n",
       "2  27   0  27  0  0  0  0   3  1     4    10  4.779180          0\n",
       "3  16   0  19  0  0  1  0   3  0     1     5  4.762542          0\n",
       "4  33   0  23  0  0  0  8   6  0     0     6  4.712264          0"
      ]
     },
     "execution_count": 10,
     "metadata": {},
     "output_type": "execute_result"
    }
   ],
   "source": [
    "'''\n",
    "this segment converts the test essays, which were a txt file, into a dataframe in the same form as the other.\n",
    "Most of this code is the same as before\n",
    "'''\n",
    "with open('ml_essays.txt') as f:\n",
    "    essays = []\n",
    "    generated = [0] * 12 + [1] * 11\n",
    "    # the target column\n",
    "    for i in range(12):\n",
    "        essays.append(next(f).strip())\n",
    "    \n",
    "    for i in range(11):\n",
    "        essays.append(next(f).strip())\n",
    "\n",
    "features = {}\n",
    "\n",
    "for symbol in [\".\",\"\\n\",\",\",\"?\",\":\",\";\",'\"',\"'\",\"-\",\"they\",\"that\"]:\n",
    "    features[symbol] = [essay.count(symbol) for essay in essays]\n",
    "\n",
    "av_length = []\n",
    "for essay in essays:\n",
    "    words = [len(word) for word in essay.split()]\n",
    "    av_length.append(mean(words))\n",
    "\n",
    "features['length'] = av_length\n",
    "features['generated'] = generated\n",
    "        \n",
    "df2 = pd.DataFrame(features)\n",
    "df2.head()"
   ]
  },
  {
   "cell_type": "code",
   "execution_count": 13,
   "id": "9e455aa4",
   "metadata": {},
   "outputs": [
    {
     "name": "stdout",
     "output_type": "stream",
     "text": [
      "              precision    recall  f1-score   support\n",
      "\n",
      "         0.0       0.75      0.90      0.82        10\n",
      "         1.0       0.91      0.77      0.83        13\n",
      "\n",
      "    accuracy                           0.83        23\n",
      "   macro avg       0.83      0.83      0.83        23\n",
      "weighted avg       0.84      0.83      0.83        23\n",
      "\n",
      "[[ 9  1]\n",
      " [ 3 10]]\n",
      "0.8260869565217391\n"
     ]
    }
   ],
   "source": [
    "X_test = df2.drop(columns = ['generated'])\n",
    "y_test = df2['generated']\n",
    "\n",
    "print(classification_report(model.predict(X_test),y_test))\n",
    "print(confusion_matrix(model.predict(X_test),y_test))\n",
    "print(model.score(X_test,y_test))"
   ]
  },
  {
   "cell_type": "code",
   "execution_count": null,
   "id": "df461724",
   "metadata": {},
   "outputs": [],
   "source": []
  }
 ],
 "metadata": {
  "kernelspec": {
   "display_name": "Python 3",
   "language": "python",
   "name": "python3"
  },
  "language_info": {
   "codemirror_mode": {
    "name": "ipython",
    "version": 3
   },
   "file_extension": ".py",
   "mimetype": "text/x-python",
   "name": "python",
   "nbconvert_exporter": "python",
   "pygments_lexer": "ipython3",
   "version": "3.8.8"
  }
 },
 "nbformat": 4,
 "nbformat_minor": 5
}
